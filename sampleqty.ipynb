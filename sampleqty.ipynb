{
 "cells": [
  {
   "cell_type": "code",
   "execution_count": 26,
   "metadata": {},
   "outputs": [],
   "source": [
    "Sample_Qty_dic = {15:2,25:3,90:5,150:8,280:13,500:20,1200:32,3200:50,10000:80,35000:125,150000:200,500000:315}\n",
    "def Get_Sample_Qty(CaseQty):\n",
    "    for key in Sample_Qty_dic:\n",
    "        if CaseQty < key:\n",
    "            return Sample_Qty_dic.get(key)"
   ]
  },
  {
   "cell_type": "code",
   "execution_count": 28,
   "metadata": {},
   "outputs": [],
   "source": [
    "Get_Sample_Qty(500000)"
   ]
  },
  {
   "cell_type": "code",
   "execution_count": 59,
   "metadata": {},
   "outputs": [],
   "source": [
    "Major_dict = {500:1, 1200:2, 3200:3}\n",
    "Minor_dict = {280:2, 500: 3, 1200: 4, 3200:6}\n",
    "\n",
    "def Major(DefQty, CaseQty):\n",
    "    for key in Major_dict:\n",
    "        if CaseQty < key: \n",
    "            if DefQty < Major_dict.get(key):\n",
    "                return \"Accept\"\n",
    "            else:\n",
    "                return \"Reject\"\n",
    "\n",
    "def Minor(DefQty, CaseQty):\n",
    "    for key in Minor_dict:\n",
    "        if CaseQty < key: \n",
    "            if DefQty < Minor_dict.get(key):\n",
    "                return \"Accept\"\n",
    "            else:\n",
    "                return \"Reject\"\n",
    "\n",
    "def Accept_Reject(DefQty, CaseQty, Severity):\n",
    "    if Severity == \"Critical\":\n",
    "        if DefQty < 1:\n",
    "            return \"Accept\"\n",
    "        else: \n",
    "            return \"Reject\"\n",
    "    elif Severity == \"Major\":\n",
    "        return Major(DefQty, CaseQty)\n",
    "    \n",
    "    elif Severity == \"Minor\":\n",
    "        return Minor(DefQty, CaseQty)"
   ]
  },
  {
   "cell_type": "code",
   "execution_count": 63,
   "metadata": {},
   "outputs": [
    {
     "data": {
      "text/plain": [
       "'Accept'"
      ]
     },
     "execution_count": 63,
     "metadata": {},
     "output_type": "execute_result"
    }
   ],
   "source": [
    "Accept_Reject(0, 800, \"Critical\")"
   ]
  }
 ],
 "metadata": {
  "kernelspec": {
   "display_name": "Python 3.10.5 64-bit",
   "language": "python",
   "name": "python3"
  },
  "language_info": {
   "codemirror_mode": {
    "name": "ipython",
    "version": 3
   },
   "file_extension": ".py",
   "mimetype": "text/x-python",
   "name": "python",
   "nbconvert_exporter": "python",
   "pygments_lexer": "ipython3",
   "version": "3.10.5"
  },
  "orig_nbformat": 4,
  "vscode": {
   "interpreter": {
    "hash": "5e8d5607ab406ac2b5fc1c08f1bb378bd54f9c2e34856d6cc5e36f72eeb36348"
   }
  }
 },
 "nbformat": 4,
 "nbformat_minor": 2
}
